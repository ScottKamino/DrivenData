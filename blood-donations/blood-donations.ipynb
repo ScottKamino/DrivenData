{
 "metadata": {
  "name": ""
 },
 "nbformat": 3,
 "nbformat_minor": 0,
 "worksheets": [
  {
   "cells": [
    {
     "cell_type": "code",
     "collapsed": false,
     "input": [
      "# Scott Kamino\n",
      "# Started: April 7, 2015\n",
      "# Driven Data: Blood Donations\n",
      "import numpy as np\n",
      "import pandas as pd"
     ],
     "language": "python",
     "metadata": {},
     "outputs": [],
     "prompt_number": 240
    },
    {
     "cell_type": "code",
     "collapsed": false,
     "input": [
      "# Read in data\n",
      "data = pd.read_csv('/Users/skamino/Desktop/DrivenData/blood-donations/training.csv', index_col=0)"
     ],
     "language": "python",
     "metadata": {},
     "outputs": [],
     "prompt_number": 241
    },
    {
     "cell_type": "code",
     "collapsed": false,
     "input": [
      "# Look at first five rows of data\n",
      "data[1:5]"
     ],
     "language": "python",
     "metadata": {},
     "outputs": [
      {
       "html": [
        "<div style=\"max-height:1000px;max-width:1500px;overflow:auto;\">\n",
        "<table border=\"1\" class=\"dataframe\">\n",
        "  <thead>\n",
        "    <tr style=\"text-align: right;\">\n",
        "      <th></th>\n",
        "      <th>Months since Last Donation</th>\n",
        "      <th>Number of Donations</th>\n",
        "      <th>Total Volume Donated (c.c.)</th>\n",
        "      <th>Months since First Donation</th>\n",
        "      <th>Made Donation in March 2007</th>\n",
        "    </tr>\n",
        "  </thead>\n",
        "  <tbody>\n",
        "    <tr>\n",
        "      <th>664</th>\n",
        "      <td> 0</td>\n",
        "      <td> 13</td>\n",
        "      <td> 3250</td>\n",
        "      <td> 28</td>\n",
        "      <td> 1</td>\n",
        "    </tr>\n",
        "    <tr>\n",
        "      <th>441</th>\n",
        "      <td> 1</td>\n",
        "      <td> 16</td>\n",
        "      <td> 4000</td>\n",
        "      <td> 35</td>\n",
        "      <td> 1</td>\n",
        "    </tr>\n",
        "    <tr>\n",
        "      <th>160</th>\n",
        "      <td> 2</td>\n",
        "      <td> 20</td>\n",
        "      <td> 5000</td>\n",
        "      <td> 45</td>\n",
        "      <td> 1</td>\n",
        "    </tr>\n",
        "    <tr>\n",
        "      <th>358</th>\n",
        "      <td> 1</td>\n",
        "      <td> 24</td>\n",
        "      <td> 6000</td>\n",
        "      <td> 77</td>\n",
        "      <td> 0</td>\n",
        "    </tr>\n",
        "  </tbody>\n",
        "</table>\n",
        "</div>"
       ],
       "metadata": {},
       "output_type": "pyout",
       "prompt_number": 242,
       "text": [
        "     Months since Last Donation  Number of Donations  \\\n",
        "664                           0                   13   \n",
        "441                           1                   16   \n",
        "160                           2                   20   \n",
        "358                           1                   24   \n",
        "\n",
        "     Total Volume Donated (c.c.)  Months since First Donation  \\\n",
        "664                         3250                           28   \n",
        "441                         4000                           35   \n",
        "160                         5000                           45   \n",
        "358                         6000                           77   \n",
        "\n",
        "     Made Donation in March 2007  \n",
        "664                            1  \n",
        "441                            1  \n",
        "160                            1  \n",
        "358                            0  "
       ]
      }
     ],
     "prompt_number": 242
    },
    {
     "cell_type": "code",
     "collapsed": false,
     "input": [
      "# Look at the shape of the dataset\n",
      "print \"Shape:\", data.shape\n",
      "\n",
      "# Check if any missing data\n",
      "data"
     ],
     "language": "python",
     "metadata": {},
     "outputs": [
      {
       "output_type": "stream",
       "stream": "stdout",
       "text": [
        "Shape: (576, 5)\n"
       ]
      },
      {
       "html": [
        "<pre>\n",
        "&lt;class 'pandas.core.frame.DataFrame'&gt;\n",
        "Int64Index: 576 entries, 619 to 74\n",
        "Data columns (total 5 columns):\n",
        "Months since Last Donation     576  non-null values\n",
        "Number of Donations            576  non-null values\n",
        "Total Volume Donated (c.c.)    576  non-null values\n",
        "Months since First Donation    576  non-null values\n",
        "Made Donation in March 2007    576  non-null values\n",
        "dtypes: int64(5)\n",
        "</pre>"
       ],
       "metadata": {},
       "output_type": "pyout",
       "prompt_number": 243,
       "text": [
        "<class 'pandas.core.frame.DataFrame'>\n",
        "Int64Index: 576 entries, 619 to 74\n",
        "Data columns (total 5 columns):\n",
        "Months since Last Donation     576  non-null values\n",
        "Number of Donations            576  non-null values\n",
        "Total Volume Donated (c.c.)    576  non-null values\n",
        "Months since First Donation    576  non-null values\n",
        "Made Donation in March 2007    576  non-null values\n",
        "dtypes: int64(5)"
       ]
      }
     ],
     "prompt_number": 243
    },
    {
     "cell_type": "code",
     "collapsed": false,
     "input": [
      "# Extract feature and output data\n",
      "output_df = data['Made Donation in March 2007']\n",
      "feature_df = data[data.columns[0:4]]"
     ],
     "language": "python",
     "metadata": {},
     "outputs": [],
     "prompt_number": 244
    },
    {
     "cell_type": "code",
     "collapsed": false,
     "input": [
      "# Create a 80% training and 20% test sample:\n",
      "from sklearn import cross_validation\n",
      "feature_train, feature_test, target_train, target_test = cross_validation.train_test_split(feature_df, output_df, \n",
      "                                                                                           test_size=0.2, random_state=1)"
     ],
     "language": "python",
     "metadata": {},
     "outputs": [],
     "prompt_number": 245
    },
    {
     "cell_type": "code",
     "collapsed": false,
     "input": [
      "# Let's iterate through some models to understand what's going on.\n",
      "from sklearn.linear_model import LogisticRegression\n",
      "from sklearn.naive_bayes import GaussianNB\n",
      "from sklearn.svm import SVC\n",
      "from sklearn import tree\n",
      "\n",
      "clf1 = LogisticRegression()\n",
      "clf2 = GaussianNB()\n",
      "clf3 = SVC(probability=True)\n",
      "clf4 = tree.DecisionTreeClassifier()\n",
      "\n",
      "print '5-fold cross validation'\n",
      "\n",
      "for clf, label in zip([clf1,clf2, clf3, clf4], ['LogisiticRegression', 'Naive Bayes', 'SVM', 'Classification Tree']):\n",
      "        scores = cross_validation.cross_val_score(clf, feature_df, output_df, cv=5, scoring='log_loss')\n",
      "        print 'Log_loss: %0.2f (+/- %0.2f) [%s]' % (scores.mean(), scores.std(), label)"
     ],
     "language": "python",
     "metadata": {},
     "outputs": [
      {
       "output_type": "stream",
       "stream": "stdout",
       "text": [
        "5-fold cross validation\n",
        "Log_loss: -0.49 (+/- 0.03) [LogisiticRegression]\n",
        "Log_loss: -0.75 (+/- 0.23) [Naive Bayes]\n",
        "Log_loss: -0.54 (+/- 0.01) [SVM]"
       ]
      },
      {
       "output_type": "stream",
       "stream": "stdout",
       "text": [
        "\n",
        "Log_loss: -8.02 (+/- 1.12) [Classification Tree]\n"
       ]
      }
     ],
     "prompt_number": 246
    },
    {
     "cell_type": "markdown",
     "metadata": {},
     "source": [
      "The Logisitic Regression Model performs pretty well. That makes sense because our variables are all ints and they aren't sparse. "
     ]
    },
    {
     "cell_type": "code",
     "collapsed": false,
     "input": [
      "# Scatter Plots of variables\n",
      "\n",
      "import matplotlib.pylab as plt\n",
      "#plt.scatter(feature_df[feature_df.columns[1]], output_df, alpha=0.3)\n",
      "#matplotlib.pylab.show()\n",
      "\n",
      "for col in feature_df.columns:\n",
      "    plt.scatter(feature_df[col], output_df, alpha=0.3)\n",
      "    plt.title(col)\n",
      "    plt.show()"
     ],
     "language": "python",
     "metadata": {},
     "outputs": [],
     "prompt_number": 252
    },
    {
     "cell_type": "code",
     "collapsed": false,
     "input": [
      "# Histogram of variables\n",
      "feature_df.columns\n",
      "for col in feature_df.columns:\n",
      "    plt.hist(feature_df[col], bins=20)\n",
      "    plt.title(col)\n",
      "    plt.show()"
     ],
     "language": "python",
     "metadata": {},
     "outputs": [],
     "prompt_number": 262
    },
    {
     "cell_type": "code",
     "collapsed": false,
     "input": [
      "lf1 = clf1.fit(feature_df, output_df)\n",
      "\n",
      "test_data = pd.read_csv('/Users/skamino/Desktop/DrivenData/blood-donations/test.csv', index_col=0)\n",
      "print test_data.shape\n",
      "\n",
      "test_data_array = pd.DataFrame.as_matrix(test_data)\n",
      "test_predict = clf1.predict_proba(test_data_array)\n",
      "test_predict[0:10]"
     ],
     "language": "python",
     "metadata": {},
     "outputs": [
      {
       "output_type": "stream",
       "stream": "stdout",
       "text": [
        "(200, 4)\n"
       ]
      },
      {
       "metadata": {},
       "output_type": "pyout",
       "prompt_number": 264,
       "text": [
        "array([[ 0.54582742,  0.45417258],\n",
        "       [ 0.90990518,  0.09009482],\n",
        "       [ 0.70610112,  0.29389888],\n",
        "       [ 0.70594799,  0.29405201],\n",
        "       [ 0.50661212,  0.49338788],\n",
        "       [ 0.25444844,  0.74555156],\n",
        "       [ 0.67863401,  0.32136599],\n",
        "       [ 0.87940957,  0.12059043],\n",
        "       [ 0.98323141,  0.01676859],\n",
        "       [ 0.92746527,  0.07253473]])"
       ]
      }
     ],
     "prompt_number": 264
    },
    {
     "cell_type": "code",
     "collapsed": false,
     "input": [
      "test_predict = pd.DataFrame(test_predict[:,1])\n",
      "test_predict = test_predict.set_index(test_data.index)\n",
      "test_predict.columns = ['Made Donation in March 2007']\n",
      "test_predict.loc[test_predict['Made Donation in March 2007']<0.1] = 0\n",
      "# Write to csv file\n",
      "pd.DataFrame.to_csv(test_predict,'/Users/skamino/Desktop/DrivenData/blood-donations/submission20150411-1.csv')"
     ],
     "language": "python",
     "metadata": {},
     "outputs": [],
     "prompt_number": 265
    },
    {
     "cell_type": "code",
     "collapsed": false,
     "input": [
      "# Let's try adjusting some of the logisitic regression parameters\n",
      "clf1 = LogisticRegression(penalty='l1')\n",
      "clf2 = LogisticRegression(penalty='l2')\n",
      "print '5-fold cross validation'\n",
      "\n",
      "for clf, label in zip([clf1,clf2], ['LogisiticRegressionL1', 'LogisticRegressionL2']):\n",
      "        scores = cross_validation.cross_val_score(clf, feature_df, output_df, cv=5, scoring='log_loss')\n",
      "        print 'Log_loss: %0.2f (+/- %0.2f) [%s]' % (scores.mean(), scores.std(), label)"
     ],
     "language": "python",
     "metadata": {},
     "outputs": [
      {
       "output_type": "stream",
       "stream": "stdout",
       "text": [
        "5-fold cross validation\n",
        "Log_loss: -0.49 (+/- 0.02) [LogisiticRegressionL1]\n",
        "Log_loss: -0.49 (+/- 0.03) [LogisticRegressionL2]\n"
       ]
      }
     ],
     "prompt_number": 269
    },
    {
     "cell_type": "markdown",
     "metadata": {},
     "source": [
      "The penalty function doesn't seem to matter"
     ]
    },
    {
     "cell_type": "code",
     "collapsed": false,
     "input": [
      "# Let's add another feature to the model:\n",
      "# I want to capture the group of people who have contributed recently and have contributed a lot.\n",
      "# So let's divide the months since last donation by number of donations.\n",
      "# My hypothesis is that a low number is indicative of a person who is likely to convert.\n",
      "output_df = data['Made Donation in March 2007']\n",
      "feature_df = data[data.columns[0:4]]\n",
      "\n",
      "newColumn = (feature_df['Months since Last Donation']+1)*1.0/feature_df['Number of Donations']\n",
      "feature_df['MonthsDonations'] = newColumn\n",
      "\n",
      "\n",
      "plt.scatter(feature_df['MonthsDonations'], output_df, alpha=0.3)\n",
      "matplotlib.pylab.show()"
     ],
     "language": "python",
     "metadata": {},
     "outputs": [],
     "prompt_number": 271
    },
    {
     "cell_type": "code",
     "collapsed": false,
     "input": [
      "clf2 = LogisticRegression(penalty='l2')\n",
      "\n",
      "scores = cross_validation.cross_val_score(clf2, feature_df, output_df, cv=5, scoring='log_loss')\n",
      "print 'Log_loss: %0.2f (+/- %0.2f) [%s]' % (scores.mean(), scores.std(), label)\n",
      "\n",
      "clf2 = clf2.fit(feature_df, output_df)"
     ],
     "language": "python",
     "metadata": {},
     "outputs": [
      {
       "output_type": "stream",
       "stream": "stdout",
       "text": [
        "Log_loss: -0.49 (+/- 0.02) [LogisticRegressionL2]\n"
       ]
      }
     ],
     "prompt_number": 272
    },
    {
     "cell_type": "code",
     "collapsed": false,
     "input": [
      "test_data = pd.read_csv('/Users/skamino/Desktop/DrivenData/blood-donations/test.csv', index_col=0)\n",
      "print test_data.shape\n",
      "\n",
      "newColumn = pd.Series((test_data['Months since Last Donation']+1)*1.0/test_data['Number of Donations'] \\\n",
      "                       , index=test_data.index)\n",
      "test_data['MonthsDonations'] = newColumn\n",
      "\n",
      "test_data_array = pd.DataFrame.as_matrix(test_data)\n",
      "test_predict = clf2.predict_proba(test_data_array)\n",
      "test_predict = pd.DataFrame(test_predict[:,1])\n",
      "test_predict = test_predict.set_index(test_data.index)\n",
      "test_predict.columns = ['Made Donation in March 2007']\n",
      "test_predict.loc[test_predict['Made Donation in March 2007']<0.1] = 0\n",
      "# Write to csv file\n",
      "pd.DataFrame.to_csv(test_predict,'/Users/skamino/Desktop/DrivenData/blood-donations/submission20150413-1.csv')"
     ],
     "language": "python",
     "metadata": {},
     "outputs": [
      {
       "output_type": "stream",
       "stream": "stdout",
       "text": [
        "(200, 4)\n"
       ]
      }
     ],
     "prompt_number": 184
    },
    {
     "cell_type": "markdown",
     "metadata": {},
     "source": [
      "This gave the lowest log_loss at 0.4031. Not bad!"
     ]
    }
   ],
   "metadata": {}
  }
 ]
}